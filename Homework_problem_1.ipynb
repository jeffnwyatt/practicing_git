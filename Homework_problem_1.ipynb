{
 "cells": [
  {
   "cell_type": "code",
   "execution_count": 57,
   "metadata": {},
   "outputs": [],
   "source": [
    "learned = {'Dictionary:': 'A collection of key-value pairs.', 'String:': 'A series of characters.', 'Boolean Expression:': 'An expression that evaluates to True or False.',\n",
    "'Comment:': 'A note in a program that the Python interpreter ignores.','Value:': 'An item associated with a key in a dictionary.',\n",
    "'Loop:': 'Work through a collection of items, one at a time.','List:': 'A collection of items in a particular order.','Key:': 'The first item in a key-value pair in a dictionary.','Float:': 'A numerical value with a decimal component.','Slicing:': 'Allows us to segment part of the variable were working with.','Function:': 'A mini program inside of your program that contain inside reusable code.','Local:': 'Refers to variables assigned in a function are only local to that function.','Global:': 'Variables assigned outside of all functions.','Variables:': 'Containers of information.','Integers:': 'Numbers like 1, 2, 3, 4, or 1341.','Dictionary:': 'Dictionaries have two components: a key and its corresponding value.','Set:': 'An unordered bag of values that have curly brackets around them.','Tuple:': 'An unchangeable, ordered sequence of elements.','DictReader:': 'Creates a CSV object that behaves like a Python OrderedDict by reading in the first line of the CSV and using each comma separated value in this line as a dictionary key.','Pandas:': 'a python library that allows for flexible data structures that makes data manipulation, file input, file output data cleaning, and simple computation easy.','os library:': 'Allows us to interact with our operating system.'}"
   ]
  },
  {
   "cell_type": "code",
   "execution_count": 58,
   "metadata": {},
   "outputs": [
    {
     "name": "stdout",
     "output_type": "stream",
     "text": [
      "Boolean Expression: An expression that evaluates to True or False.\n",
      "Comment: A note in a program that the Python interpreter ignores.\n",
      "DictReader: Creates a CSV object that behaves like a Python OrderedDict by reading in the first line of the CSV and using each comma separated value in this line as a dictionary key.\n",
      "Dictionary: Dictionaries have two components: a key and its corresponding value.\n",
      "Float: A numerical value with a decimal component.\n",
      "Function: A mini program inside of your program that contain inside reusable code.\n",
      "Global: Variables assigned outside of all functions.\n",
      "Integers: Numbers like 1, 2, 3, 4, or 1341.\n",
      "Key: The first item in a key-value pair in a dictionary.\n",
      "List: A collection of items in a particular order.\n",
      "Local: Refers to variables assigned in a function are only local to that function.\n",
      "Loop: Work through a collection of items, one at a time.\n",
      "Pandas: a python library that allows for flexible data structures that makes data manipulation, file input, file output data cleaning, and simple computation easy.\n",
      "Set: An unordered bag of values that have curly brackets around them.\n",
      "Slicing: Allows us to segment part of the variable were working with.\n",
      "String: A series of characters.\n",
      "Tuple: An unchangeable, ordered sequence of elements.\n",
      "Value: An item associated with a key in a dictionary.\n",
      "Variables: Containers of information.\n",
      "os library: Allows us to interact with our operating system.\n"
     ]
    }
   ],
   "source": [
    "for key, value in sorted(learned.items()):\n",
    "    print('{} {}' .format(key,value))"
   ]
  },
  {
   "cell_type": "code",
   "execution_count": null,
   "metadata": {},
   "outputs": [],
   "source": []
  },
  {
   "cell_type": "code",
   "execution_count": null,
   "metadata": {},
   "outputs": [],
   "source": []
  }
 ],
 "metadata": {
  "kernelspec": {
   "display_name": "Python 3",
   "language": "python",
   "name": "python3"
  },
  "language_info": {
   "codemirror_mode": {
    "name": "ipython",
    "version": 3
   },
   "file_extension": ".py",
   "mimetype": "text/x-python",
   "name": "python",
   "nbconvert_exporter": "python",
   "pygments_lexer": "ipython3",
   "version": "3.6.4"
  }
 },
 "nbformat": 4,
 "nbformat_minor": 2
}
