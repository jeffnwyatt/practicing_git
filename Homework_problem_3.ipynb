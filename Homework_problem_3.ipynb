{
 "cells": [
  {
   "cell_type": "code",
   "execution_count": 1,
   "metadata": {},
   "outputs": [],
   "source": [
    "Activities = ('wake up at 6:30', 'shower and get ready for work', 'feed and walk Spike', 'get on the subway to go to work', 'eat lunch',\n",
    "             'work until 6:00', 'go to the gym', 'come home', 'play with Spike, walk him and feed him', 'get ready for bed')"
   ]
  },
  {
   "cell_type": "code",
   "execution_count": 7,
   "metadata": {},
   "outputs": [
    {
     "name": "stdout",
     "output_type": "stream",
     "text": [
      "I usually wake up at 6:30 and then shower and get ready for work before I feed and walk Spike. After that I get on the subway to go to work and work until I eat lunch around noon. I generally work until 6:00 and then usually go to the gym before I come home and end my day.\n"
     ]
    }
   ],
   "source": [
    "print('I usually {} and then {} before I {}. After that I {} and work until I {} around noon. I generally {} and then usually {} before I {} and end my day.' . format(Activities[0],Activities[1],Activities[2],Activities[3], Activities[4],Activities[5],Activities[6], Activities[7]))"
   ]
  },
  {
   "cell_type": "code",
   "execution_count": null,
   "metadata": {},
   "outputs": [],
   "source": []
  }
 ],
 "metadata": {
  "kernelspec": {
   "display_name": "Python 3",
   "language": "python",
   "name": "python3"
  },
  "language_info": {
   "codemirror_mode": {
    "name": "ipython",
    "version": 3
   },
   "file_extension": ".py",
   "mimetype": "text/x-python",
   "name": "python",
   "nbconvert_exporter": "python",
   "pygments_lexer": "ipython3",
   "version": "3.6.4"
  }
 },
 "nbformat": 4,
 "nbformat_minor": 2
}
