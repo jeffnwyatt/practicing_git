{
 "cells": [
  {
   "cell_type": "code",
   "execution_count": 1,
   "metadata": {},
   "outputs": [],
   "source": [
    "jeffs_movies = {'Godfather', 'Forest Gump','Goodfellas','Silver Linings Playbook','Long Walk to Freedom'}"
   ]
  },
  {
   "cell_type": "code",
   "execution_count": 22,
   "metadata": {},
   "outputs": [],
   "source": [
    "Hyuns_movies = {'Avatar','Legends of the Fall','Silver Linings Playbook', 'Godfather','Scent of a Woman'}"
   ]
  },
  {
   "cell_type": "code",
   "execution_count": 57,
   "metadata": {},
   "outputs": [],
   "source": [
    "same = jeffs_movies.intersection(Hyuns_movies)"
   ]
  },
  {
   "cell_type": "code",
   "execution_count": 58,
   "metadata": {},
   "outputs": [],
   "source": [
    "jeff_only = jeffs_movies.difference(Hyuns_movies)"
   ]
  },
  {
   "cell_type": "code",
   "execution_count": 59,
   "metadata": {},
   "outputs": [
    {
     "name": "stdout",
     "output_type": "stream",
     "text": [
      "We have 2 movies in common:\n"
     ]
    }
   ],
   "source": [
    "print('We have {} movies in common:' . format(len(same)))"
   ]
  },
  {
   "cell_type": "code",
   "execution_count": 60,
   "metadata": {},
   "outputs": [
    {
     "name": "stdout",
     "output_type": "stream",
     "text": [
      "Silver Linings Playbook\n",
      "Godfather\n"
     ]
    }
   ],
   "source": [
    "for movie in same:\n",
    "    print(movie)"
   ]
  },
  {
   "cell_type": "code",
   "execution_count": 61,
   "metadata": {},
   "outputs": [
    {
     "name": "stdout",
     "output_type": "stream",
     "text": [
      "Jeff likes 3 movies that Hyun doesnt:\n"
     ]
    }
   ],
   "source": [
    "print('Jeff likes {} movies that Hyun doesnt:' . format(len(jeff_only)))"
   ]
  },
  {
   "cell_type": "code",
   "execution_count": 62,
   "metadata": {},
   "outputs": [
    {
     "name": "stdout",
     "output_type": "stream",
     "text": [
      "Forest Gump\n",
      "Goodfellas\n",
      "long Walk to Freedom\n"
     ]
    }
   ],
   "source": [
    "for movie in jeff_only:\n",
    "    print(movie)"
   ]
  },
  {
   "cell_type": "code",
   "execution_count": null,
   "metadata": {},
   "outputs": [],
   "source": []
  }
 ],
 "metadata": {
  "kernelspec": {
   "display_name": "Python 3",
   "language": "python",
   "name": "python3"
  },
  "language_info": {
   "codemirror_mode": {
    "name": "ipython",
    "version": 3
   },
   "file_extension": ".py",
   "mimetype": "text/x-python",
   "name": "python",
   "nbconvert_exporter": "python",
   "pygments_lexer": "ipython3",
   "version": "3.6.4"
  }
 },
 "nbformat": 4,
 "nbformat_minor": 2
}
